{
 "cells": [
  {
   "cell_type": "markdown",
   "metadata": {},
   "source": [
    "# WeatherPy\n",
    "----\n",
    "\n",
    "#### Note\n",
    "* Instructions have been included for each segment. You do not have to follow them exactly, but they are included to help you think through the steps."
   ]
  },
  {
   "cell_type": "code",
   "execution_count": 1,
   "metadata": {
    "scrolled": true
   },
   "outputs": [],
   "source": [
    "# Dependencies and Setup\n",
    "import matplotlib.pyplot as plt\n",
    "import pandas as pd\n",
    "import numpy as np\n",
    "import requests\n",
    "import time\n",
    "from scipy.stats import linregress\n",
    "\n",
    "# Import API key\n",
    "from api_keys import weather_api_key\n",
    "\n",
    "# Incorporated citipy to determine city based on latitude and longitude\n",
    "from citipy import citipy\n",
    "\n",
    "\n",
    "\n",
    "# Range of latitudes and longitudes\n",
    "lat_range = (-90,90)\n",
    "lng_range = (-180, 180)"
   ]
  },
  {
   "cell_type": "markdown",
   "metadata": {},
   "source": [
    "## Generate Cities List"
   ]
  },
  {
   "cell_type": "code",
   "execution_count": 2,
   "metadata": {},
   "outputs": [
    {
     "data": {
      "text/plain": [
       "627"
      ]
     },
     "execution_count": 2,
     "metadata": {},
     "output_type": "execute_result"
    }
   ],
   "source": [
    "# List for holding lat_lngs and cities\n",
    "lat_lngs = []\n",
    "cities = []\n",
    "\n",
    "# Create a set of random lat and lng combinations\n",
    "lats = np.random.uniform(lat_range[0], lat_range[1], size=1500)\n",
    "lngs = np.random.uniform(lng_range[0], lng_range[1], size=1500)\n",
    "lat_lngs = zip(lats, lngs)\n",
    "\n",
    "# Identify nearest city for each lat, lng combination\n",
    "for lat_lng in lat_lngs:\n",
    "    city = citipy.nearest_city(lat_lng[0], lat_lng[1]).city_name\n",
    "    \n",
    "    # If the city is unique, then add it to a our cities list\n",
    "    if city not in cities:\n",
    "        cities.append(city)\n",
    "\n",
    "# Print the city count to confirm sufficient count\n",
    "len(cities)"
   ]
  },
  {
   "cell_type": "markdown",
   "metadata": {},
   "source": [
    "### Perform API Calls\n",
    "* Perform a weather check on each city using a series of successive API calls.\n",
    "* Include a print log of each city as it'sbeing processed (with the city number and city name).\n"
   ]
  },
  {
   "cell_type": "code",
   "execution_count": 3,
   "metadata": {},
   "outputs": [],
   "source": [
    "#lists to be populated w/ weather data\n",
    "city_name = []\n",
    "country = []\n",
    "lattitude =[]\n",
    "longitude = []\n",
    "date = []\n",
    "temperature = []\n",
    "wind_speed = []\n",
    "cloud_cover = []\n",
    "humidity = []        "
   ]
  },
  {
   "cell_type": "code",
   "execution_count": 4,
   "metadata": {},
   "outputs": [
    {
     "name": "stdout",
     "output_type": "stream",
     "text": [
      "Processed city 1 | added ust-ilimsk\n",
      "Processed city 2 | added kodiak\n",
      "Processed city 3 | added mataura\n",
      "Processed city 4 | added naze\n",
      "Processed city 5 | added rikitea\n",
      "No entry here. Moving on.\n",
      "Processed city 6 | added butaritari\n",
      "Processed city 7 | added siocon\n",
      "Processed city 8 | added mangai\n",
      "Processed city 9 | added camana\n",
      "Processed city 10 | added xining\n",
      "Processed city 11 | added port-gentil\n",
      "Processed city 12 | added byron bay\n",
      "Processed city 13 | added holguin\n",
      "Processed city 14 | added ribeira grande\n",
      "Processed city 15 | added jasper\n",
      "Processed city 16 | added upernavik\n",
      "Processed city 17 | added jamestown\n",
      "Processed city 18 | added saint-philippe\n",
      "Processed city 19 | added yeppoon\n",
      "Processed city 20 | added khatanga\n",
      "Processed city 21 | added gizo\n",
      "Processed city 22 | added cidreira\n",
      "Processed city 23 | added mecca\n",
      "Processed city 24 | added huambo\n",
      "Processed city 25 | added skjervoy\n",
      "Processed city 26 | added busselton\n",
      "Processed city 27 | added lebu\n",
      "Processed city 28 | added katangli\n",
      "Processed city 29 | added punta arenas\n",
      "Processed city 30 | added torbay\n",
      "Processed city 31 | added petropavlovsk-kamchatskiy\n",
      "Processed city 32 | added guerrero negro\n",
      "Processed city 33 | added cape town\n",
      "Processed city 34 | added talnakh\n",
      "Processed city 35 | added ponta do sol\n",
      "Processed city 36 | added la baneza\n",
      "Processed city 37 | added clyde river\n",
      "Processed city 38 | added port alfred\n",
      "Processed city 39 | added tessalit\n",
      "Processed city 40 | added ancud\n",
      "Processed city 41 | added tuktoyaktuk\n",
      "Processed city 42 | added nouadhibou\n",
      "Processed city 43 | added vaini\n",
      "Processed city 44 | added avarua\n",
      "Processed city 45 | added bluff\n",
      "Processed city 46 | added chokurdakh\n",
      "Processed city 47 | added lakatoro\n",
      "Processed city 48 | added solnechnyy\n",
      "Processed city 49 | added jequie\n",
      "Processed city 50 | added port elizabeth\n",
      "Processed city 51 | added albany\n",
      "No entry here. Moving on.\n",
      "Processed city 52 | added carnarvon\n",
      "Processed city 53 | added ushuaia\n",
      "Processed city 54 | added yerbogachen\n",
      "Processed city 55 | added arraial do cabo\n",
      "No entry here. Moving on.\n",
      "Processed city 56 | added praia da vitoria\n",
      "Processed city 57 | added faya\n",
      "Processed city 58 | added honiara\n",
      "Processed city 59 | added nouakchott\n",
      "No entry here. Moving on.\n",
      "Processed city 60 | added dikson\n",
      "Processed city 61 | added hohhot\n",
      "No entry here. Moving on.\n",
      "Processed city 62 | added bambous virieux\n",
      "Processed city 63 | added easton\n",
      "Processed city 64 | added karratha\n",
      "Processed city 65 | added bonthe\n",
      "Processed city 66 | added nikolskoye\n",
      "Processed city 67 | added savinskiy\n",
      "Processed city 68 | added erenhot\n",
      "Processed city 69 | added palembang\n",
      "Processed city 70 | added saldanha\n",
      "Processed city 71 | added belaya gora\n",
      "Processed city 72 | added baykit\n",
      "Processed city 73 | added vestmanna\n",
      "Processed city 74 | added great yarmouth\n",
      "Processed city 75 | added miranda\n",
      "Processed city 76 | added macenta\n",
      "Processed city 77 | added visegrad\n",
      "Processed city 78 | added itarema\n",
      "Processed city 79 | added ikere\n",
      "Processed city 80 | added vila velha\n",
      "Processed city 81 | added heihe\n",
      "Processed city 82 | added lagoa\n",
      "Processed city 83 | added mount isa\n",
      "Processed city 84 | added seoul\n",
      "Processed city 85 | added casper\n",
      "Processed city 86 | added saint-joseph\n",
      "Processed city 87 | added touros\n",
      "Processed city 88 | added lethem\n",
      "Processed city 89 | added severo-kurilsk\n",
      "Processed city 90 | added mahebourg\n",
      "Processed city 91 | added airai\n",
      "Processed city 92 | added san andres\n",
      "Processed city 93 | added lodwar\n",
      "Processed city 94 | added kirakira\n",
      "Processed city 95 | added te anau\n",
      "Processed city 96 | added esperance\n",
      "Processed city 97 | added avera\n",
      "Processed city 98 | added constitucion\n",
      "Processed city 99 | added bhalwal\n",
      "Processed city 100 | added buloh kasap\n",
      "Processed city 101 | added bethel\n",
      "Processed city 102 | added netarhat\n",
      "Processed city 103 | added tasiilaq\n",
      "No entry here. Moving on.\n",
      "No entry here. Moving on.\n",
      "Processed city 104 | added gweta\n",
      "Processed city 105 | added maine-soroa\n",
      "Processed city 106 | added hobart\n",
      "Processed city 107 | added east london\n",
      "Processed city 108 | added barrow\n",
      "Processed city 109 | added san calixto\n",
      "Processed city 110 | added sikeston\n",
      "Processed city 111 | added havre-saint-pierre\n",
      "Processed city 112 | added vytegra\n",
      "Processed city 113 | added upata\n",
      "No entry here. Moving on.\n",
      "Processed city 114 | added lompoc\n",
      "Processed city 115 | added george town\n",
      "No entry here. Moving on.\n",
      "Processed city 116 | added zabol\n",
      "Processed city 117 | added malino\n",
      "Processed city 118 | added cortez\n",
      "Processed city 119 | added qui nhon\n",
      "Processed city 120 | added vestmannaeyjar\n",
      "Processed city 121 | added san quintin\n",
      "No entry here. Moving on.\n",
      "Processed city 122 | added villarrica\n",
      "Processed city 123 | added chuy\n",
      "Processed city 124 | added atar\n",
      "Processed city 125 | added yellowknife\n",
      "Processed city 126 | added vila franca do campo\n",
      "Processed city 127 | added kadambur\n",
      "Processed city 128 | added hilo\n",
      "Processed city 129 | added half moon bay\n",
      "Processed city 130 | added ust-tsilma\n",
      "Processed city 131 | added puerto ayora\n",
      "Processed city 132 | added sao joao da barra\n",
      "Processed city 133 | added hasaki\n",
      "Processed city 134 | added tiksi\n",
      "Processed city 135 | added kon tum\n",
      "Processed city 136 | added kaitangata\n",
      "Processed city 137 | added hermanus\n",
      "Processed city 138 | added aklavik\n",
      "No entry here. Moving on.\n",
      "Processed city 139 | added kahului\n",
      "Processed city 140 | added puerto madryn\n",
      "Processed city 141 | added radomsko\n",
      "Processed city 142 | added bredasdorp\n",
      "No entry here. Moving on.\n",
      "Processed city 143 | added fort myers beach\n",
      "Processed city 144 | added bocana de paiwas\n",
      "Processed city 145 | added souillac\n",
      "Processed city 146 | added biak\n",
      "Processed city 147 | added qaanaaq\n",
      "Processed city 148 | added oranjemund\n",
      "Processed city 149 | added porangatu\n",
      "Processed city 150 | added poum\n",
      "Processed city 151 | added thio\n",
      "Processed city 152 | added najran\n",
      "Processed city 153 | added klaksvik\n",
      "Processed city 154 | added ola\n",
      "Processed city 155 | added iqaluit\n",
      "Processed city 156 | added yamada\n",
      "Processed city 157 | added cherskiy\n",
      "Processed city 158 | added pyinmana\n",
      "Processed city 159 | added qaqortoq\n",
      "Processed city 160 | added barvinkove\n",
      "Processed city 161 | added mamontovo\n",
      "Processed city 162 | added sambava\n",
      "Processed city 163 | added belmonte\n",
      "Processed city 164 | added pemberton\n",
      "Processed city 165 | added kalabo\n",
      "Processed city 166 | added tagusao\n",
      "Processed city 167 | added ostrovnoy\n",
      "Processed city 168 | added hellvik\n",
      "No entry here. Moving on.\n",
      "Processed city 169 | added grandview\n",
      "Processed city 170 | added portland\n",
      "No entry here. Moving on.\n",
      "Processed city 171 | added castro\n",
      "Processed city 172 | added saint george\n",
      "Processed city 173 | added morgantown\n",
      "Processed city 174 | added imeni stepana razina\n",
      "Processed city 175 | added kavaratti\n",
      "Processed city 176 | added qasigiannguit\n",
      "Processed city 177 | added the valley\n",
      "Processed city 178 | added grindavik\n",
      "Processed city 179 | added norman wells\n",
      "Processed city 180 | added lumphat\n",
      "No entry here. Moving on.\n",
      "Processed city 181 | added pipraich\n",
      "Processed city 182 | added vostok\n",
      "Processed city 183 | added new norfolk\n",
      "Processed city 184 | added sitka\n",
      "Processed city 185 | added okhotsk\n",
      "Processed city 186 | added panzhihua\n",
      "Processed city 187 | added bokaa\n",
      "Processed city 188 | added srednekolymsk\n",
      "Processed city 189 | added lorengau\n",
      "Processed city 190 | added cabo san lucas\n",
      "Processed city 191 | added vao\n",
      "Processed city 192 | added deputatskiy\n",
      "Processed city 193 | added piranhas\n",
      "Processed city 194 | added thompson\n",
      "Processed city 195 | added perevolotskiy\n",
      "Processed city 196 | added novovasylivka\n",
      "Processed city 197 | added buzmeyin\n",
      "Processed city 198 | added axim\n",
      "Processed city 199 | added atuona\n",
      "Processed city 200 | added severodvinsk\n",
      "Processed city 201 | added ajdabiya\n",
      "Processed city 202 | added nianzishan\n",
      "Processed city 203 | added borogontsy\n",
      "Processed city 204 | added kaeo\n",
      "Processed city 205 | added gorin\n",
      "Processed city 206 | added shediac\n",
      "Processed city 207 | added sur\n",
      "Processed city 208 | added villa maria\n",
      "No entry here. Moving on.\n",
      "Processed city 209 | added umm kaddadah\n",
      "Processed city 210 | added richards bay\n",
      "Processed city 211 | added buala\n",
      "Processed city 212 | added numan\n",
      "Processed city 213 | added ust-nera\n",
      "Processed city 214 | added los llanos de aridane\n",
      "Processed city 215 | added kenai\n",
      "Processed city 216 | added muscat\n"
     ]
    },
    {
     "name": "stdout",
     "output_type": "stream",
     "text": [
      "Processed city 217 | added cedeno\n",
      "Processed city 218 | added aguimes\n",
      "Processed city 219 | added amapa\n",
      "No entry here. Moving on.\n",
      "Processed city 220 | added katsuura\n",
      "Processed city 221 | added havoysund\n",
      "Processed city 222 | added sao joao evangelista\n",
      "Processed city 223 | added isangel\n",
      "No entry here. Moving on.\n",
      "Processed city 224 | added esquipulas\n",
      "No entry here. Moving on.\n",
      "Processed city 225 | added solvychegodsk\n",
      "Processed city 226 | added la ronge\n",
      "Processed city 227 | added faro\n",
      "Processed city 228 | added umm lajj\n",
      "Processed city 229 | added hovd\n",
      "Processed city 230 | added vilyuysk\n",
      "Processed city 231 | added tuatapere\n",
      "Processed city 232 | added kassala\n",
      "Processed city 233 | added alliance\n",
      "Processed city 234 | added goderich\n",
      "Processed city 235 | added thinadhoo\n",
      "Processed city 236 | added tokmak\n",
      "Processed city 237 | added fukue\n",
      "Processed city 238 | added ahwa\n",
      "Processed city 239 | added kurilsk\n",
      "Processed city 240 | added saint-augustin\n",
      "Processed city 241 | added ciudad bolivar\n",
      "Processed city 242 | added dunda\n",
      "Processed city 243 | added luderitz\n",
      "Processed city 244 | added khasan\n",
      "Processed city 245 | added ylivieska\n",
      "Processed city 246 | added lewistown\n",
      "Processed city 247 | added mayo\n",
      "Processed city 248 | added makakilo city\n",
      "Processed city 249 | added hokitika\n",
      "Processed city 250 | added georgetown\n",
      "Processed city 251 | added dicabisagan\n",
      "Processed city 252 | added englehart\n",
      "No entry here. Moving on.\n",
      "Processed city 253 | added nanortalik\n",
      "Processed city 254 | added ulaangom\n",
      "Processed city 255 | added ilo\n",
      "Processed city 256 | added ashtabula\n",
      "No entry here. Moving on.\n",
      "Processed city 257 | added newport\n",
      "Processed city 258 | added huarmey\n",
      "No entry here. Moving on.\n",
      "Processed city 259 | added enterprise\n",
      "Processed city 260 | added jiaocheng\n",
      "Processed city 261 | added kapaa\n",
      "Processed city 262 | added bikaner\n",
      "Processed city 263 | added hailey\n",
      "Processed city 264 | added talaya\n",
      "Processed city 265 | added paulo afonso\n",
      "Processed city 266 | added kirov\n",
      "Processed city 267 | added licheng\n",
      "Processed city 268 | added porto velho\n",
      "Processed city 269 | added hithadhoo\n",
      "Processed city 270 | added stornoway\n",
      "No entry here. Moving on.\n",
      "Processed city 271 | added balagansk\n",
      "Processed city 272 | added xam nua\n",
      "Processed city 273 | added rawson\n",
      "No entry here. Moving on.\n",
      "Processed city 274 | added longyearbyen\n",
      "Processed city 275 | added sibolga\n",
      "Processed city 276 | added acapulco\n",
      "Processed city 277 | added chifeng\n",
      "Processed city 278 | added solano\n",
      "Processed city 279 | added saskylakh\n",
      "Processed city 280 | added iquitos\n",
      "Processed city 281 | added bridlington\n",
      "Processed city 282 | added mehamn\n",
      "No entry here. Moving on.\n",
      "Processed city 283 | added vagur\n",
      "Processed city 284 | added moquegua\n",
      "Processed city 285 | added kununurra\n",
      "Processed city 286 | added xiongzhou\n",
      "Processed city 287 | added saint marys\n",
      "Processed city 288 | added xai-xai\n",
      "No entry here. Moving on.\n",
      "Processed city 289 | added oranjestad\n",
      "Processed city 290 | added omaha\n",
      "Processed city 291 | added vanimo\n",
      "Processed city 292 | added san ramon\n",
      "Processed city 293 | added pocone\n",
      "Processed city 294 | added beringovskiy\n",
      "Processed city 295 | added apache junction\n",
      "Processed city 296 | added samarai\n",
      "Processed city 297 | added abu kamal\n",
      "Processed city 298 | added qingdao\n",
      "Processed city 299 | added ulladulla\n",
      "Processed city 300 | added gao\n",
      "Processed city 301 | added chiredzi\n",
      "Processed city 302 | added ayagoz\n",
      "Processed city 303 | added kamaishi\n",
      "Processed city 304 | added jiexiu\n",
      "Processed city 305 | added teya\n",
      "Processed city 306 | added alofi\n",
      "Processed city 307 | added edd\n",
      "Processed city 308 | added saint-pierre\n",
      "Processed city 309 | added mengcheng\n",
      "Processed city 310 | added marang\n",
      "Processed city 311 | added codrington\n",
      "Processed city 312 | added trat\n",
      "Processed city 313 | added ponta delgada\n",
      "Processed city 314 | added saravan\n",
      "Processed city 315 | added channel-port aux basques\n",
      "Processed city 316 | added vadso\n",
      "Processed city 317 | added flin flon\n",
      "Processed city 318 | added roald\n",
      "Processed city 319 | added caucaia\n",
      "No entry here. Moving on.\n",
      "Processed city 320 | added rudsar\n",
      "Processed city 321 | added tiarei\n",
      "No entry here. Moving on.\n",
      "Processed city 322 | added faanui\n",
      "Processed city 323 | added salina\n",
      "Processed city 324 | added mar del plata\n",
      "Processed city 325 | added necochea\n",
      "Processed city 326 | added santa catarina de tepehuanes\n",
      "Processed city 327 | added anadyr\n",
      "Processed city 328 | added hobyo\n",
      "Processed city 329 | added puerto del rosario\n",
      "Processed city 330 | added negombo\n",
      "Processed city 331 | added fort nelson\n",
      "Processed city 332 | added nemuro\n",
      "Processed city 333 | added vidim\n",
      "Processed city 334 | added pevek\n",
      "Processed city 335 | added honningsvag\n",
      "Processed city 336 | added geraldton\n",
      "Processed city 337 | added petauke\n",
      "Processed city 338 | added leningradskiy\n",
      "Processed city 339 | added tocopilla\n",
      "Processed city 340 | added laguna\n",
      "Processed city 341 | added itoman\n",
      "Processed city 342 | added carballo\n",
      "Processed city 343 | added san felipe\n",
      "Processed city 344 | added priyutnoye\n",
      "No entry here. Moving on.\n",
      "Processed city 345 | added vardo\n",
      "Processed city 346 | added gazojak\n",
      "Processed city 347 | added salalah\n",
      "Processed city 348 | added andenes\n",
      "Processed city 349 | added kontagora\n",
      "Processed city 350 | added sao francisco de paula\n",
      "Processed city 351 | added komsomolskiy\n",
      "No entry here. Moving on.\n",
      "Processed city 352 | added timmins\n",
      "Processed city 353 | added san joaquin\n",
      "Processed city 354 | added maxixe\n",
      "Processed city 355 | added boguchany\n",
      "Processed city 356 | added gazli\n",
      "Processed city 357 | added coihueco\n",
      "Processed city 358 | added nivala\n",
      "No entry here. Moving on.\n",
      "Processed city 359 | added mocuba\n",
      "Processed city 360 | added kosh-agach\n",
      "Processed city 361 | added bengkulu\n",
      "Processed city 362 | added araouane\n",
      "Processed city 363 | added miyazu\n",
      "Processed city 364 | added iberia\n",
      "Processed city 365 | added san ramon de la nueva oran\n",
      "Processed city 366 | added maumere\n",
      "Processed city 367 | added ilulissat\n",
      "Processed city 368 | added jacareacanga\n",
      "Processed city 369 | added magnitogorsk\n",
      "Processed city 370 | added fortuna\n",
      "Processed city 371 | added garissa\n",
      "Processed city 372 | added adrar\n",
      "Processed city 373 | added albina\n",
      "Processed city 374 | added nuuk\n",
      "Processed city 375 | added gat\n",
      "Processed city 376 | added awjilah\n",
      "Processed city 377 | added zasheyek\n",
      "Processed city 378 | added shellbrook\n",
      "Processed city 379 | added biritiba-mirim\n",
      "Processed city 380 | added zyryanka\n",
      "Processed city 381 | added mendi\n",
      "Processed city 382 | added casma\n",
      "Processed city 383 | added nhulunbuy\n",
      "Processed city 384 | added quatre cocos\n",
      "Processed city 385 | added general roca\n",
      "Processed city 386 | added nishihara\n",
      "No entry here. Moving on.\n",
      "Processed city 387 | added narsaq\n",
      "Processed city 388 | added la vista\n",
      "Processed city 389 | added felanitx\n",
      "Processed city 390 | added hay river\n",
      "No entry here. Moving on.\n",
      "Processed city 391 | added dinghai\n",
      "Processed city 392 | added vila\n",
      "Processed city 393 | added indianola\n",
      "No entry here. Moving on.\n",
      "Processed city 394 | added zlitan\n",
      "No entry here. Moving on.\n",
      "No entry here. Moving on.\n",
      "Processed city 395 | added baruun-urt\n",
      "No entry here. Moving on.\n",
      "Processed city 396 | added antofagasta\n",
      "Processed city 397 | added wewak\n",
      "Processed city 398 | added northam\n",
      "Processed city 399 | added mapiripan\n",
      "Processed city 400 | added sao joao do piaui\n",
      "Processed city 401 | added sabalgarh\n",
      "Processed city 402 | added dauphin\n",
      "Processed city 403 | added bathsheba\n",
      "Processed city 404 | added ixtapa\n",
      "No entry here. Moving on.\n",
      "Processed city 405 | added fairbanks\n",
      "Processed city 406 | added sisimiut\n",
      "Processed city 407 | added sri aman\n",
      "Processed city 408 | added high level\n",
      "Processed city 409 | added meadow lake\n",
      "Processed city 410 | added maniitsoq\n",
      "Processed city 411 | added pingliang\n",
      "Processed city 412 | added lavrentiya\n",
      "Processed city 413 | added santa rosa\n",
      "Processed city 414 | added riyadh\n",
      "Processed city 415 | added port hardy\n",
      "Processed city 416 | added nanga eboko\n",
      "Processed city 417 | added alta floresta\n",
      "Processed city 418 | added mogzon\n",
      "No entry here. Moving on.\n",
      "Processed city 419 | added provideniya\n",
      "Processed city 420 | added chara\n",
      "Processed city 421 | added villa del rosario\n",
      "Processed city 422 | added snezhnogorsk\n",
      "Processed city 423 | added yarada\n",
      "Processed city 424 | added henderson\n",
      "No entry here. Moving on.\n"
     ]
    },
    {
     "name": "stdout",
     "output_type": "stream",
     "text": [
      "Processed city 425 | added pundaguitan\n",
      "No entry here. Moving on.\n",
      "Processed city 426 | added pringsewu\n",
      "Processed city 427 | added marrakesh\n",
      "Processed city 428 | added floro\n",
      "Processed city 429 | added siparia\n",
      "Processed city 430 | added dumka\n",
      "Processed city 431 | added suoyarvi\n",
      "Processed city 432 | added dakar\n",
      "Processed city 433 | added pyay\n",
      "Processed city 434 | added nadaun\n",
      "Processed city 435 | added vikhorevka\n",
      "Processed city 436 | added usta muhammad\n",
      "Processed city 437 | added soyo\n",
      "Processed city 438 | added lasa\n",
      "Processed city 439 | added sandnessjoen\n",
      "Processed city 440 | added oriximina\n",
      "Processed city 441 | added sola\n",
      "No entry here. Moving on.\n",
      "Processed city 442 | added sechura\n",
      "Processed city 443 | added assiniboia\n",
      "No entry here. Moving on.\n",
      "Processed city 444 | added beloha\n",
      "Processed city 445 | added mama\n",
      "Processed city 446 | added acari\n",
      "Processed city 447 | added pangnirtung\n",
      "Processed city 448 | added korla\n",
      "Processed city 449 | added evensk\n",
      "Processed city 450 | added launceston\n",
      "Processed city 451 | added dukat\n",
      "Processed city 452 | added dryden\n",
      "Processed city 453 | added sukhobuzimskoye\n",
      "Processed city 454 | added harper\n",
      "Processed city 455 | added vista hermosa\n",
      "Processed city 456 | added monywa\n",
      "Processed city 457 | added smithers\n",
      "Processed city 458 | added fuerte olimpo\n",
      "Processed city 459 | added birobidzhan\n",
      "Processed city 460 | added formosa do rio preto\n",
      "Processed city 461 | added yaan\n",
      "Processed city 462 | added nalut\n",
      "Processed city 463 | added miri\n",
      "Processed city 464 | added tanga\n",
      "Processed city 465 | added alice springs\n",
      "Processed city 466 | added husavik\n",
      "Processed city 467 | added kiyasovo\n",
      "Processed city 468 | added merauke\n",
      "No entry here. Moving on.\n",
      "No entry here. Moving on.\n",
      "Processed city 469 | added bayir\n",
      "Processed city 470 | added wilmington\n",
      "Processed city 471 | added sungaipenuh\n",
      "Processed city 472 | added iwanai\n",
      "Processed city 473 | added tucumcari\n",
      "Processed city 474 | added nuristan\n",
      "Processed city 475 | added joutseno\n",
      "Processed city 476 | added berlevag\n",
      "Processed city 477 | added denpasar\n",
      "Processed city 478 | added san ignacio\n",
      "Processed city 479 | added tura\n",
      "Processed city 480 | added maracaju\n",
      "Processed city 481 | added shenjiamen\n",
      "Processed city 482 | added san jose de las lajas\n",
      "Processed city 483 | added paidha\n",
      "No entry here. Moving on.\n",
      "Processed city 484 | added abilene\n",
      "Processed city 485 | added bella union\n",
      "Processed city 486 | added pedernales\n",
      "Processed city 487 | added oxbow\n",
      "Processed city 488 | added terra roxa\n",
      "Processed city 489 | added lucea\n",
      "Processed city 490 | added asau\n",
      "Processed city 491 | added glyadyanskoye\n",
      "Processed city 492 | added sayyan\n",
      "Processed city 493 | added catamarca\n",
      "No entry here. Moving on.\n",
      "Processed city 494 | added rabo de peixe\n",
      "Processed city 495 | added podor\n",
      "Processed city 496 | added sao filipe\n",
      "No entry here. Moving on.\n",
      "Processed city 497 | added collie\n",
      "Processed city 498 | added peniche\n",
      "Processed city 499 | added ceuta\n",
      "Processed city 500 | added pemangkat\n",
      "Processed city 501 | added cervo\n",
      "Processed city 502 | added nandura\n",
      "Processed city 503 | added prieska\n",
      "Processed city 504 | added souris\n",
      "Processed city 505 | added loralai\n",
      "Processed city 506 | added monrovia\n",
      "Processed city 507 | added bom jardim\n",
      "Processed city 508 | added caravelas\n",
      "Processed city 509 | added ivanava\n",
      "Processed city 510 | added kutum\n",
      "Processed city 511 | added boende\n",
      "Processed city 512 | added grand-lahou\n",
      "Processed city 513 | added balakhta\n",
      "Processed city 514 | added pisco\n",
      "Processed city 515 | added magadan\n",
      "Processed city 516 | added marsabit\n",
      "Processed city 517 | added cap malheureux\n",
      "Processed city 518 | added olinda\n",
      "Processed city 519 | added arman\n",
      "Processed city 520 | added selcuk\n",
      "Processed city 521 | added guymon\n",
      "Processed city 522 | added whitehorse\n",
      "Processed city 523 | added cardston\n",
      "Processed city 524 | added nurobod\n",
      "Processed city 525 | added coruripe\n",
      "Processed city 526 | added luwuk\n",
      "Processed city 527 | added viedma\n",
      "Processed city 528 | added menongue\n",
      "No entry here. Moving on.\n",
      "Processed city 529 | added hoa binh\n",
      "Processed city 530 | added cockburn town\n",
      "Processed city 531 | added hami\n",
      "Processed city 532 | added saint anthony\n",
      "Processed city 533 | added jackson\n",
      "Processed city 534 | added campechuela\n",
      "Processed city 535 | added port hedland\n",
      "Processed city 536 | added jardim\n",
      "Processed city 537 | added cayenne\n",
      "Processed city 538 | added orcopampa\n",
      "Processed city 539 | added kihei\n",
      "Processed city 540 | added banda aceh\n",
      "Processed city 541 | added cooma\n",
      "Processed city 542 | added mandera\n",
      "Processed city 543 | added panaba\n",
      "Processed city 544 | added puerto gaitan\n",
      "Processed city 545 | added san juan del sur\n",
      "Processed city 546 | added marawi\n",
      "Processed city 547 | added tecoanapa\n",
      "Processed city 548 | added rustenburg\n",
      "Processed city 549 | added ayan\n",
      "Processed city 550 | added baie-comeau\n",
      "Processed city 551 | added kaniama\n",
      "Processed city 552 | added lora del rio\n",
      "Processed city 553 | added mhlambanyatsi\n",
      "No entry here. Moving on.\n",
      "Processed city 554 | added esna\n",
      "Processed city 555 | added eureka\n",
      "Processed city 556 | added sao felix do xingu\n",
      "Processed city 557 | added aljezur\n",
      "Processed city 558 | added mazkeret batya\n",
      "Processed city 559 | added goiatuba\n",
      "Processed city 560 | added umba\n",
      "Processed city 561 | added aki\n",
      "Processed city 562 | added broome\n",
      "Processed city 563 | added veraval\n",
      "Processed city 564 | added priargunsk\n",
      "Processed city 565 | added barao de melgaco\n",
      "No entry here. Moving on.\n",
      "Processed city 566 | added raudeberg\n",
      "Processed city 567 | added san patricio\n",
      "Processed city 568 | added verkhniy uslon\n",
      "Processed city 569 | added port loko\n",
      "Processed city 570 | added dingle\n",
      "Processed city 571 | added marzuq\n",
      "Processed city 572 | added la cruz\n",
      "Processed city 573 | added berezovyy\n",
      "Processed city 574 | added sao jose da coroa grande\n",
      "Processed city 575 | added batagay-alyta\n",
      "Processed city 576 | added nueva gerona\n",
      "Completed\n"
     ]
    }
   ],
   "source": [
    "#creating url for api calls, setting up for loop w/ try/except to pull data from json and put it in lists\n",
    "url = \"http://api.openweathermap.org/data/2.5/weather?units=Imperial&APPID=\" + weather_api_key\n",
    "\n",
    "counter = 1\n",
    "\n",
    "for city in cities:  \n",
    "    \n",
    "    try: \n",
    "        response = requests.get(f\"{url}&q={city}\").json() \n",
    "        \n",
    "        city_name.append(response[\"name\"])\n",
    "        country.append(response[\"sys\"][\"country\"])\n",
    "        lattitude.append(response[\"coord\"][\"lat\"])\n",
    "        longitude.append(response[\"coord\"][\"lon\"])\n",
    "        date.append(response[\"dt\"])\n",
    "        temperature.append(response[\"main\"][\"temp_max\"])\n",
    "        wind_speed.append(response[\"wind\"][\"speed\"])\n",
    "        cloud_cover.append(response[\"clouds\"][\"all\"])\n",
    "        humidity.append(response[\"main\"][\"humidity\"])\n",
    "        \n",
    "        print(f\"Processed city {counter} | added {city}\")\n",
    "        \n",
    "        \n",
    "        counter = counter + 1\n",
    "        time.sleep(1.05)\n",
    "    except:\n",
    "        \n",
    "        \n",
    "        print(\"No entry here. Moving on.\")\n",
    "        \n",
    "    continue\n",
    "print(\"Completed\")"
   ]
  },
  {
   "cell_type": "markdown",
   "metadata": {},
   "source": [
    "### Convert Raw Data to DataFrame\n",
    "* Export the city data into a .csv.\n",
    "* Display the DataFrame"
   ]
  },
  {
   "cell_type": "code",
   "execution_count": 5,
   "metadata": {},
   "outputs": [
    {
     "data": {
      "text/html": [
       "<div>\n",
       "<style scoped>\n",
       "    .dataframe tbody tr th:only-of-type {\n",
       "        vertical-align: middle;\n",
       "    }\n",
       "\n",
       "    .dataframe tbody tr th {\n",
       "        vertical-align: top;\n",
       "    }\n",
       "\n",
       "    .dataframe thead th {\n",
       "        text-align: right;\n",
       "    }\n",
       "</style>\n",
       "<table border=\"1\" class=\"dataframe\">\n",
       "  <thead>\n",
       "    <tr style=\"text-align: right;\">\n",
       "      <th></th>\n",
       "      <th>City</th>\n",
       "      <th>Country</th>\n",
       "      <th>Latitude</th>\n",
       "      <th>Longitude</th>\n",
       "      <th>Date</th>\n",
       "      <th>Temperature</th>\n",
       "      <th>Wind_Speed</th>\n",
       "      <th>Cloud_cover</th>\n",
       "      <th>Humidity</th>\n",
       "    </tr>\n",
       "  </thead>\n",
       "  <tbody>\n",
       "    <tr>\n",
       "      <th>0</th>\n",
       "      <td>Ust'-Ilimsk</td>\n",
       "      <td>RU</td>\n",
       "      <td>58.00</td>\n",
       "      <td>102.66</td>\n",
       "      <td>1597632371</td>\n",
       "      <td>65.30</td>\n",
       "      <td>6.33</td>\n",
       "      <td>71</td>\n",
       "      <td>36</td>\n",
       "    </tr>\n",
       "    <tr>\n",
       "      <th>1</th>\n",
       "      <td>Saint Paul Harbor</td>\n",
       "      <td>US</td>\n",
       "      <td>57.79</td>\n",
       "      <td>-152.41</td>\n",
       "      <td>1597632330</td>\n",
       "      <td>59.74</td>\n",
       "      <td>7.40</td>\n",
       "      <td>0</td>\n",
       "      <td>77</td>\n",
       "    </tr>\n",
       "    <tr>\n",
       "      <th>2</th>\n",
       "      <td>Mataura</td>\n",
       "      <td>NZ</td>\n",
       "      <td>-46.19</td>\n",
       "      <td>168.86</td>\n",
       "      <td>1597632047</td>\n",
       "      <td>48.00</td>\n",
       "      <td>4.00</td>\n",
       "      <td>51</td>\n",
       "      <td>79</td>\n",
       "    </tr>\n",
       "    <tr>\n",
       "      <th>3</th>\n",
       "      <td>Naze</td>\n",
       "      <td>JP</td>\n",
       "      <td>28.37</td>\n",
       "      <td>129.48</td>\n",
       "      <td>1597632375</td>\n",
       "      <td>89.60</td>\n",
       "      <td>11.41</td>\n",
       "      <td>20</td>\n",
       "      <td>75</td>\n",
       "    </tr>\n",
       "    <tr>\n",
       "      <th>4</th>\n",
       "      <td>Rikitea</td>\n",
       "      <td>PF</td>\n",
       "      <td>-23.12</td>\n",
       "      <td>-134.97</td>\n",
       "      <td>1597632286</td>\n",
       "      <td>70.59</td>\n",
       "      <td>13.00</td>\n",
       "      <td>4</td>\n",
       "      <td>78</td>\n",
       "    </tr>\n",
       "  </tbody>\n",
       "</table>\n",
       "</div>"
      ],
      "text/plain": [
       "                City Country  Latitude  Longitude        Date  Temperature  \\\n",
       "0        Ust'-Ilimsk      RU     58.00     102.66  1597632371        65.30   \n",
       "1  Saint Paul Harbor      US     57.79    -152.41  1597632330        59.74   \n",
       "2            Mataura      NZ    -46.19     168.86  1597632047        48.00   \n",
       "3               Naze      JP     28.37     129.48  1597632375        89.60   \n",
       "4            Rikitea      PF    -23.12    -134.97  1597632286        70.59   \n",
       "\n",
       "   Wind_Speed  Cloud_cover  Humidity  \n",
       "0        6.33           71        36  \n",
       "1        7.40            0        77  \n",
       "2        4.00           51        79  \n",
       "3       11.41           20        75  \n",
       "4       13.00            4        78  "
      ]
     },
     "execution_count": 5,
     "metadata": {},
     "output_type": "execute_result"
    }
   ],
   "source": [
    "weather_df = pd.DataFrame ({\n",
    "    \"City\": city_name,\n",
    "    \"Country\": country,\n",
    "    \"Latitude\": lattitude,\n",
    "    \"Longitude\": longitude,\n",
    "    \"Date\": date,\n",
    "    \"Temperature\": temperature,\n",
    "    \"Wind_Speed\": wind_speed,\n",
    "    \"Cloud_cover\": cloud_cover,\n",
    "    \"Humidity\": humidity\n",
    "})\n",
    "\n",
    "weather_df.head()"
   ]
  },
  {
   "cell_type": "code",
   "execution_count": 6,
   "metadata": {},
   "outputs": [],
   "source": [
    "weather_df.to_csv (\"../output_data/cities.csv\")"
   ]
  },
  {
   "cell_type": "markdown",
   "metadata": {},
   "source": [
    "## Inspect the data and remove the cities where the humidity > 100%.\n",
    "----\n",
    "Skip this step if there are no cities that have humidity > 100%. "
   ]
  },
  {
   "cell_type": "code",
   "execution_count": 7,
   "metadata": {},
   "outputs": [
    {
     "data": {
      "text/plain": [
       "array([ 36,  77,  79,  75,  78,  62,  74,  58,  88,  37,  73,  69,  93,\n",
       "        55,  25,  63,  76,  30,  40,  81,  82,  85,  95,  86,  71,  60,\n",
       "        70,  87,  48,  43,  64,  72,  97,  92,  66,  83,  80,  59,  41,\n",
       "       100,  99,  94,  68,  14,  84,  42,  61,  65,  54,  96,  33,  57,\n",
       "        89,  28,   9,  91,  17,  67,  56,  34,  29,  38,  35,  12,  51,\n",
       "         3,  53,  50,  90,  98,   8,  46,  52,  24,  44,  26,  32,  16,\n",
       "        21,  45,  22,  47,  39,  11,  23,  49,  15], dtype=int64)"
      ]
     },
     "execution_count": 7,
     "metadata": {},
     "output_type": "execute_result"
    }
   ],
   "source": [
    "no_humidity = weather_df.loc[:, 'Humidity'].unique()\n",
    "no_humidity   "
   ]
  },
  {
   "cell_type": "code",
   "execution_count": null,
   "metadata": {},
   "outputs": [],
   "source": [
    "#  Get the indices of cities that have humidity over 100%.\n",
    "N/A"
   ]
  },
  {
   "cell_type": "code",
   "execution_count": null,
   "metadata": {},
   "outputs": [],
   "source": [
    "# Make a new DataFrame equal to the city data to drop all humidity outliers by index.\n",
    "# Passing \"inplace=False\" will make a copy of the city_data DataFrame, which we call \"clean_city_data\".\n",
    "N/A"
   ]
  },
  {
   "cell_type": "code",
   "execution_count": null,
   "metadata": {},
   "outputs": [],
   "source": [
    "# Extract relevant fields from the data frame\n",
    "\n",
    "\n",
    "# Export the City_Data into a csv\n",
    "N/A"
   ]
  },
  {
   "cell_type": "markdown",
   "metadata": {},
   "source": [
    "## Plotting the Data\n",
    "* Use proper labeling of the plots using plot titles (including date of analysis) and axes labels.\n",
    "* Save the plotted figures as .pngs."
   ]
  },
  {
   "cell_type": "markdown",
   "metadata": {},
   "source": [
    "## Latitude vs. Temperature Plot"
   ]
  },
  {
   "cell_type": "code",
   "execution_count": 8,
   "metadata": {
    "scrolled": true
   },
   "outputs": [
    {
     "data": {
      "image/png": "[encoded data removed]",
      "text/plain": [
       "<Figure size 432x288 with 1 Axes>"
      ]
     },
     "metadata": {
      "needs_background": "light"
     },
     "output_type": "display_data"
    }
   ],
   "source": [
    "ax1 = weather_df.plot.scatter(x='Latitude', y='Temperature', c='Purple',  title= 'Latitude vs Temp 8/15/2020' )\n",
    "plt.grid(b=True, which='major', axis='both', linestyle=\"-\", color='black')\n",
    "plt.savefig('../output_data/temperature_latitude.png')"
   ]
  },
  {
   "cell_type": "markdown",
   "metadata": {},
   "source": [
    "## Latitude vs. Humidity Plot"
   ]
  },
  {
   "cell_type": "code",
   "execution_count": 9,
   "metadata": {},
   "outputs": [
    {
     "data": {
      "image/png": "[encoded data removed]",
      "text/plain": [
       "<Figure size 432x288 with 1 Axes>"
      ]
     },
     "metadata": {
      "needs_background": "light"
     },
     "output_type": "display_data"
    }
   ],
   "source": [
    "ax1 = weather_df.plot.scatter(x='Latitude', y='Humidity', c='Green', title= 'Latitude vs. Humidity 8/15/2020' )\n",
    "plt.grid(b=True, which='major', axis='both', linestyle=\"-\", color='black')\n",
    "plt.savefig('../output_data/Latitude_Humidity.png')"
   ]
  },
  {
   "cell_type": "markdown",
   "metadata": {},
   "source": [
    "## Latitude vs. Cloudiness Plot"
   ]
  },
  {
   "cell_type": "code",
   "execution_count": 10,
   "metadata": {},
   "outputs": [
    {
     "data": {
      "image/png": "[encoded data removed]",
      "text/plain": [
       "<Figure size 432x288 with 1 Axes>"
      ]
     },
     "metadata": {
      "needs_background": "light"
     },
     "output_type": "display_data"
    }
   ],
   "source": [
    "ax1 = weather_df.plot.scatter(x='Latitude', y='Cloud_cover', c='Blue', title= 'Latitude vs. Cloudiness 8/15/2020' )\n",
    "plt.grid(b=True, which='major', axis='both', linestyle=\"-\", color='black')\n",
    "plt.savefig('../output_data/Latitude_Cloudiness.png')"
   ]
  },
  {
   "cell_type": "markdown",
   "metadata": {},
   "source": [
    "## Latitude vs. Wind Speed Plot"
   ]
  },
  {
   "cell_type": "code",
   "execution_count": 11,
   "metadata": {},
   "outputs": [
    {
     "data": {
      "image/png": "[encoded data removed]",
      "text/plain": [
       "<Figure size 432x288 with 1 Axes>"
      ]
     },
     "metadata": {
      "needs_background": "light"
     },
     "output_type": "display_data"
    }
   ],
   "source": [
    "ax1 = weather_df.plot.scatter(x='Latitude', y='Wind_Speed', c='Black', title= 'Latitude vs. Wind Speed 8/15/2020' )\n",
    "plt.grid(b=True, which='major', axis='both', linestyle=\"-\", color='black')\n",
    "plt.savefig('../output_data/Latitude_Wind Speed.png')"
   ]
  },
  {
   "cell_type": "markdown",
   "metadata": {},
   "source": [
    "## Linear Regression"
   ]
  },
  {
   "cell_type": "code",
   "execution_count": null,
   "metadata": {},
   "outputs": [],
   "source": [
    "# OPTIONAL: Create a function to create Linear Regression plots"
   ]
  },
  {
   "cell_type": "code",
   "execution_count": 12,
   "metadata": {},
   "outputs": [
    {
     "data": {
      "text/html": [
       "<div>\n",
       "<style scoped>\n",
       "    .dataframe tbody tr th:only-of-type {\n",
       "        vertical-align: middle;\n",
       "    }\n",
       "\n",
       "    .dataframe tbody tr th {\n",
       "        vertical-align: top;\n",
       "    }\n",
       "\n",
       "    .dataframe thead th {\n",
       "        text-align: right;\n",
       "    }\n",
       "</style>\n",
       "<table border=\"1\" class=\"dataframe\">\n",
       "  <thead>\n",
       "    <tr style=\"text-align: right;\">\n",
       "      <th></th>\n",
       "      <th>City</th>\n",
       "      <th>Country</th>\n",
       "      <th>Latitude</th>\n",
       "      <th>Longitude</th>\n",
       "      <th>Date</th>\n",
       "      <th>Temperature</th>\n",
       "      <th>Wind_Speed</th>\n",
       "      <th>Cloud_cover</th>\n",
       "      <th>Humidity</th>\n",
       "    </tr>\n",
       "  </thead>\n",
       "  <tbody>\n",
       "    <tr>\n",
       "      <th>0</th>\n",
       "      <td>Ust'-Ilimsk</td>\n",
       "      <td>RU</td>\n",
       "      <td>58.00</td>\n",
       "      <td>102.66</td>\n",
       "      <td>1597632371</td>\n",
       "      <td>65.30</td>\n",
       "      <td>6.33</td>\n",
       "      <td>71</td>\n",
       "      <td>36</td>\n",
       "    </tr>\n",
       "    <tr>\n",
       "      <th>1</th>\n",
       "      <td>Saint Paul Harbor</td>\n",
       "      <td>US</td>\n",
       "      <td>57.79</td>\n",
       "      <td>-152.41</td>\n",
       "      <td>1597632330</td>\n",
       "      <td>59.74</td>\n",
       "      <td>7.40</td>\n",
       "      <td>0</td>\n",
       "      <td>77</td>\n",
       "    </tr>\n",
       "    <tr>\n",
       "      <th>3</th>\n",
       "      <td>Naze</td>\n",
       "      <td>JP</td>\n",
       "      <td>28.37</td>\n",
       "      <td>129.48</td>\n",
       "      <td>1597632375</td>\n",
       "      <td>89.60</td>\n",
       "      <td>11.41</td>\n",
       "      <td>20</td>\n",
       "      <td>75</td>\n",
       "    </tr>\n",
       "    <tr>\n",
       "      <th>5</th>\n",
       "      <td>Butaritari</td>\n",
       "      <td>KI</td>\n",
       "      <td>3.07</td>\n",
       "      <td>172.79</td>\n",
       "      <td>1597632317</td>\n",
       "      <td>81.59</td>\n",
       "      <td>1.52</td>\n",
       "      <td>26</td>\n",
       "      <td>62</td>\n",
       "    </tr>\n",
       "    <tr>\n",
       "      <th>6</th>\n",
       "      <td>Siocon</td>\n",
       "      <td>PH</td>\n",
       "      <td>7.71</td>\n",
       "      <td>122.14</td>\n",
       "      <td>1597632380</td>\n",
       "      <td>87.21</td>\n",
       "      <td>7.07</td>\n",
       "      <td>90</td>\n",
       "      <td>62</td>\n",
       "    </tr>\n",
       "    <tr>\n",
       "      <th>...</th>\n",
       "      <td>...</td>\n",
       "      <td>...</td>\n",
       "      <td>...</td>\n",
       "      <td>...</td>\n",
       "      <td>...</td>\n",
       "      <td>...</td>\n",
       "      <td>...</td>\n",
       "      <td>...</td>\n",
       "      <td>...</td>\n",
       "    </tr>\n",
       "    <tr>\n",
       "      <th>570</th>\n",
       "      <td>Marzuq</td>\n",
       "      <td>YE</td>\n",
       "      <td>14.40</td>\n",
       "      <td>46.47</td>\n",
       "      <td>1597633276</td>\n",
       "      <td>80.87</td>\n",
       "      <td>4.36</td>\n",
       "      <td>25</td>\n",
       "      <td>48</td>\n",
       "    </tr>\n",
       "    <tr>\n",
       "      <th>571</th>\n",
       "      <td>La Cruz</td>\n",
       "      <td>MX</td>\n",
       "      <td>23.92</td>\n",
       "      <td>-106.90</td>\n",
       "      <td>1597633333</td>\n",
       "      <td>84.00</td>\n",
       "      <td>1.99</td>\n",
       "      <td>75</td>\n",
       "      <td>89</td>\n",
       "    </tr>\n",
       "    <tr>\n",
       "      <th>572</th>\n",
       "      <td>Berezovyy</td>\n",
       "      <td>RU</td>\n",
       "      <td>51.67</td>\n",
       "      <td>135.70</td>\n",
       "      <td>1597633334</td>\n",
       "      <td>60.03</td>\n",
       "      <td>3.78</td>\n",
       "      <td>99</td>\n",
       "      <td>80</td>\n",
       "    </tr>\n",
       "    <tr>\n",
       "      <th>574</th>\n",
       "      <td>Batagay-Alyta</td>\n",
       "      <td>RU</td>\n",
       "      <td>67.80</td>\n",
       "      <td>130.41</td>\n",
       "      <td>1597633338</td>\n",
       "      <td>48.76</td>\n",
       "      <td>3.49</td>\n",
       "      <td>18</td>\n",
       "      <td>52</td>\n",
       "    </tr>\n",
       "    <tr>\n",
       "      <th>575</th>\n",
       "      <td>Nueva Gerona</td>\n",
       "      <td>CU</td>\n",
       "      <td>21.88</td>\n",
       "      <td>-82.80</td>\n",
       "      <td>1597633339</td>\n",
       "      <td>84.83</td>\n",
       "      <td>3.58</td>\n",
       "      <td>1</td>\n",
       "      <td>70</td>\n",
       "    </tr>\n",
       "  </tbody>\n",
       "</table>\n",
       "<p>410 rows × 9 columns</p>\n",
       "</div>"
      ],
      "text/plain": [
       "                  City Country  Latitude  Longitude        Date  Temperature  \\\n",
       "0          Ust'-Ilimsk      RU     58.00     102.66  1597632371        65.30   \n",
       "1    Saint Paul Harbor      US     57.79    -152.41  1597632330        59.74   \n",
       "3                 Naze      JP     28.37     129.48  1597632375        89.60   \n",
       "5           Butaritari      KI      3.07     172.79  1597632317        81.59   \n",
       "6               Siocon      PH      7.71     122.14  1597632380        87.21   \n",
       "..                 ...     ...       ...        ...         ...          ...   \n",
       "570             Marzuq      YE     14.40      46.47  1597633276        80.87   \n",
       "571            La Cruz      MX     23.92    -106.90  1597633333        84.00   \n",
       "572          Berezovyy      RU     51.67     135.70  1597633334        60.03   \n",
       "574      Batagay-Alyta      RU     67.80     130.41  1597633338        48.76   \n",
       "575       Nueva Gerona      CU     21.88     -82.80  1597633339        84.83   \n",
       "\n",
       "     Wind_Speed  Cloud_cover  Humidity  \n",
       "0          6.33           71        36  \n",
       "1          7.40            0        77  \n",
       "3         11.41           20        75  \n",
       "5          1.52           26        62  \n",
       "6          7.07           90        62  \n",
       "..          ...          ...       ...  \n",
       "570        4.36           25        48  \n",
       "571        1.99           75        89  \n",
       "572        3.78           99        80  \n",
       "574        3.49           18        52  \n",
       "575        3.58            1        70  \n",
       "\n",
       "[410 rows x 9 columns]"
      ]
     },
     "execution_count": 12,
     "metadata": {},
     "output_type": "execute_result"
    }
   ],
   "source": [
    "# Create Northern Hemisphere DataFrames\n",
    "northern_df = weather_df[weather_df.Latitude > 0]\n",
    "northern_df"
   ]
  },
  {
   "cell_type": "code",
   "execution_count": 13,
   "metadata": {},
   "outputs": [
    {
     "data": {
      "text/html": [
       "<div>\n",
       "<style scoped>\n",
       "    .dataframe tbody tr th:only-of-type {\n",
       "        vertical-align: middle;\n",
       "    }\n",
       "\n",
       "    .dataframe tbody tr th {\n",
       "        vertical-align: top;\n",
       "    }\n",
       "\n",
       "    .dataframe thead th {\n",
       "        text-align: right;\n",
       "    }\n",
       "</style>\n",
       "<table border=\"1\" class=\"dataframe\">\n",
       "  <thead>\n",
       "    <tr style=\"text-align: right;\">\n",
       "      <th></th>\n",
       "      <th>City</th>\n",
       "      <th>Country</th>\n",
       "      <th>Latitude</th>\n",
       "      <th>Longitude</th>\n",
       "      <th>Date</th>\n",
       "      <th>Temperature</th>\n",
       "      <th>Wind_Speed</th>\n",
       "      <th>Cloud_cover</th>\n",
       "      <th>Humidity</th>\n",
       "    </tr>\n",
       "  </thead>\n",
       "  <tbody>\n",
       "    <tr>\n",
       "      <th>2</th>\n",
       "      <td>Mataura</td>\n",
       "      <td>NZ</td>\n",
       "      <td>-46.19</td>\n",
       "      <td>168.86</td>\n",
       "      <td>1597632047</td>\n",
       "      <td>48.00</td>\n",
       "      <td>4.00</td>\n",
       "      <td>51</td>\n",
       "      <td>79</td>\n",
       "    </tr>\n",
       "    <tr>\n",
       "      <th>4</th>\n",
       "      <td>Rikitea</td>\n",
       "      <td>PF</td>\n",
       "      <td>-23.12</td>\n",
       "      <td>-134.97</td>\n",
       "      <td>1597632286</td>\n",
       "      <td>70.59</td>\n",
       "      <td>13.00</td>\n",
       "      <td>4</td>\n",
       "      <td>78</td>\n",
       "    </tr>\n",
       "    <tr>\n",
       "      <th>7</th>\n",
       "      <td>Mangai</td>\n",
       "      <td>CD</td>\n",
       "      <td>-4.05</td>\n",
       "      <td>19.53</td>\n",
       "      <td>1597632382</td>\n",
       "      <td>75.94</td>\n",
       "      <td>0.72</td>\n",
       "      <td>100</td>\n",
       "      <td>74</td>\n",
       "    </tr>\n",
       "    <tr>\n",
       "      <th>8</th>\n",
       "      <td>Camaná</td>\n",
       "      <td>PE</td>\n",
       "      <td>-16.62</td>\n",
       "      <td>-72.71</td>\n",
       "      <td>1597632383</td>\n",
       "      <td>58.30</td>\n",
       "      <td>6.91</td>\n",
       "      <td>65</td>\n",
       "      <td>79</td>\n",
       "    </tr>\n",
       "    <tr>\n",
       "      <th>10</th>\n",
       "      <td>Port-Gentil</td>\n",
       "      <td>GA</td>\n",
       "      <td>-0.72</td>\n",
       "      <td>8.78</td>\n",
       "      <td>1597632387</td>\n",
       "      <td>75.15</td>\n",
       "      <td>11.86</td>\n",
       "      <td>100</td>\n",
       "      <td>88</td>\n",
       "    </tr>\n",
       "    <tr>\n",
       "      <th>...</th>\n",
       "      <td>...</td>\n",
       "      <td>...</td>\n",
       "      <td>...</td>\n",
       "      <td>...</td>\n",
       "      <td>...</td>\n",
       "      <td>...</td>\n",
       "      <td>...</td>\n",
       "      <td>...</td>\n",
       "      <td>...</td>\n",
       "    </tr>\n",
       "    <tr>\n",
       "      <th>552</th>\n",
       "      <td>Mhlambanyatsi</td>\n",
       "      <td>SZ</td>\n",
       "      <td>-26.45</td>\n",
       "      <td>31.02</td>\n",
       "      <td>1597633300</td>\n",
       "      <td>43.27</td>\n",
       "      <td>5.23</td>\n",
       "      <td>100</td>\n",
       "      <td>92</td>\n",
       "    </tr>\n",
       "    <tr>\n",
       "      <th>555</th>\n",
       "      <td>São Félix do Xingu</td>\n",
       "      <td>BR</td>\n",
       "      <td>-6.64</td>\n",
       "      <td>-51.99</td>\n",
       "      <td>1597633250</td>\n",
       "      <td>75.78</td>\n",
       "      <td>1.97</td>\n",
       "      <td>27</td>\n",
       "      <td>40</td>\n",
       "    </tr>\n",
       "    <tr>\n",
       "      <th>558</th>\n",
       "      <td>Goiatuba</td>\n",
       "      <td>BR</td>\n",
       "      <td>-18.01</td>\n",
       "      <td>-49.35</td>\n",
       "      <td>1597633310</td>\n",
       "      <td>74.59</td>\n",
       "      <td>5.64</td>\n",
       "      <td>1</td>\n",
       "      <td>33</td>\n",
       "    </tr>\n",
       "    <tr>\n",
       "      <th>564</th>\n",
       "      <td>Barão de Melgaço</td>\n",
       "      <td>BR</td>\n",
       "      <td>-16.19</td>\n",
       "      <td>-55.97</td>\n",
       "      <td>1597633319</td>\n",
       "      <td>86.00</td>\n",
       "      <td>2.17</td>\n",
       "      <td>72</td>\n",
       "      <td>40</td>\n",
       "    </tr>\n",
       "    <tr>\n",
       "      <th>573</th>\n",
       "      <td>São José da Coroa Grande</td>\n",
       "      <td>BR</td>\n",
       "      <td>-8.90</td>\n",
       "      <td>-35.15</td>\n",
       "      <td>1597633292</td>\n",
       "      <td>74.16</td>\n",
       "      <td>9.46</td>\n",
       "      <td>72</td>\n",
       "      <td>85</td>\n",
       "    </tr>\n",
       "  </tbody>\n",
       "</table>\n",
       "<p>166 rows × 9 columns</p>\n",
       "</div>"
      ],
      "text/plain": [
       "                         City Country  Latitude  Longitude        Date  \\\n",
       "2                     Mataura      NZ    -46.19     168.86  1597632047   \n",
       "4                     Rikitea      PF    -23.12    -134.97  1597632286   \n",
       "7                      Mangai      CD     -4.05      19.53  1597632382   \n",
       "8                      Camaná      PE    -16.62     -72.71  1597632383   \n",
       "10                Port-Gentil      GA     -0.72       8.78  1597632387   \n",
       "..                        ...     ...       ...        ...         ...   \n",
       "552             Mhlambanyatsi      SZ    -26.45      31.02  1597633300   \n",
       "555        São Félix do Xingu      BR     -6.64     -51.99  1597633250   \n",
       "558                  Goiatuba      BR    -18.01     -49.35  1597633310   \n",
       "564          Barão de Melgaço      BR    -16.19     -55.97  1597633319   \n",
       "573  São José da Coroa Grande      BR     -8.90     -35.15  1597633292   \n",
       "\n",
       "     Temperature  Wind_Speed  Cloud_cover  Humidity  \n",
       "2          48.00        4.00           51        79  \n",
       "4          70.59       13.00            4        78  \n",
       "7          75.94        0.72          100        74  \n",
       "8          58.30        6.91           65        79  \n",
       "10         75.15       11.86          100        88  \n",
       "..           ...         ...          ...       ...  \n",
       "552        43.27        5.23          100        92  \n",
       "555        75.78        1.97           27        40  \n",
       "558        74.59        5.64            1        33  \n",
       "564        86.00        2.17           72        40  \n",
       "573        74.16        9.46           72        85  \n",
       "\n",
       "[166 rows x 9 columns]"
      ]
     },
     "execution_count": 13,
     "metadata": {},
     "output_type": "execute_result"
    }
   ],
   "source": [
    "# Create  Southern Hemisphere DataFrames  \n",
    "southern_df = weather_df[weather_df.Latitude < 0]\n",
    "southern_df"
   ]
  },
  {
   "cell_type": "markdown",
   "metadata": {},
   "source": [
    "####  Northern Hemisphere - Max Temp vs. Latitude Linear Regression"
   ]
  },
  {
   "cell_type": "code",
   "execution_count": 39,
   "metadata": {},
   "outputs": [
    {
     "name": "stdout",
     "output_type": "stream",
     "text": [
      "The r-squared is: -0.7230226843103594\n"
     ]
    },
    {
     "data": {
      "image/png": "[encoded data removed]",
      "text/plain": [
       "<Figure size 432x288 with 1 Axes>"
      ]
     },
     "metadata": {
      "needs_background": "light"
     },
     "output_type": "display_data"
    }
   ],
   "source": [
    "x_values = northern_df['Latitude']\n",
    "y_values = northern_df['Temperature']\n",
    "plt.scatter(x_values, y_values)\n",
    "plt.title(\"Northern Hemisphere - Max Temp vs. Latitude Linear Regression\")\n",
    "plt.xlabel('Latitude')\n",
    "plt.ylabel('Temperature')\n",
    "\n",
    "## add a linear regression equation\n",
    "(slope, intercept, rvalue, pvalue, stderr) = linregress(x_values, y_values)\n",
    "\n",
    "## taking the equation from the line above, and calculating the points along the line\n",
    "regress_values = x_values * slope + intercept\n",
    "\n",
    "line_eq = \"y =\" + str(round(slope,2)) + \"x +\" + str(round(intercept,2))\n",
    "plt.scatter(x_values, y_values)\n",
    "plt.plot(x_values, regress_values, \"r-\")\n",
    "plt.annotate(line_eq, (17,37), fontsize = 15, color=\"Blue\")\n",
    "\n",
    "plt.savefig('../output_data/Northern Hemisphere - Max Temp vs. Latitude Linear Regression.png')\n",
    "\n",
    "print(f\"The r-squared is: {rvalue}\")\n",
    "plt.show()"
   ]
  },
  {
   "cell_type": "code",
   "execution_count": null,
   "metadata": {},
   "outputs": [],
   "source": [
    "Linear regression tells us here higher the temperature the lower the latitude. however there seems to be more of a even spread of at latitude 40 with higher temps"
   ]
  },
  {
   "cell_type": "markdown",
   "metadata": {},
   "source": [
    "####  Southern Hemisphere - Max Temp vs. Latitude Linear Regression"
   ]
  },
  {
   "cell_type": "code",
   "execution_count": 40,
   "metadata": {},
   "outputs": [
    {
     "name": "stdout",
     "output_type": "stream",
     "text": [
      "The r-squared is: 0.7582116527442773\n"
     ]
    },
    {
     "data": {
      "image/png": "[encoded data removed]",
      "text/plain": [
       "<Figure size 432x288 with 1 Axes>"
      ]
     },
     "metadata": {
      "needs_background": "light"
     },
     "output_type": "display_data"
    }
   ],
   "source": [
    "x_values = southern_df['Latitude']\n",
    "y_values = southern_df['Temperature']\n",
    "plt.scatter(x_values, y_values)\n",
    "plt.title(\"Southern Hemisphere - Max Temp vs. Latitude Linear Regression\")\n",
    "plt.xlabel('Latitude')\n",
    "plt.ylabel('Temperature')\n",
    "\n",
    "## add a linear regression equation\n",
    "(slope, intercept, rvalue, pvalue, stderr) = linregress(x_values, y_values)\n",
    "\n",
    "## taking the equation from the line above, and calculating the points along the line\n",
    "regress_values = x_values * slope + intercept\n",
    "\n",
    "line_eq = \"y =\" + str(round(slope,2)) + \"x +\" + str(round(intercept,2))\n",
    "plt.scatter(x_values, y_values)\n",
    "plt.plot(x_values, regress_values, \"r-\")\n",
    "plt.annotate(line_eq, (-20,40), fontsize = 15, color=\"Blue\")\n",
    "\n",
    "plt.savefig('../output_data/Southern Hemisphere - Max Temp vs. Latitude Linear Regression.png')\n",
    "\n",
    "print(f\"The r-squared is: {rvalue}\")\n",
    "plt.show()"
   ]
  },
  {
   "cell_type": "code",
   "execution_count": null,
   "metadata": {},
   "outputs": [],
   "source": [
    "most of the countries range in the 90 degree weather and as we get closer to the equator the temp gets higher and the ideal place to be would be the places in the negative range of the latitude, considering i live in texas anything with a latitude of -20 and -10 seems good to me."
   ]
  },
  {
   "cell_type": "markdown",
   "metadata": {},
   "source": [
    "####  Northern Hemisphere - Humidity (%) vs. Latitude Linear Regression"
   ]
  },
  {
   "cell_type": "code",
   "execution_count": 41,
   "metadata": {},
   "outputs": [
    {
     "name": "stdout",
     "output_type": "stream",
     "text": [
      "The r-squared is: -0.05274603429708527\n"
     ]
    },
    {
     "data": {
      "image/png": "[encoded data removed]",
      "text/plain": [
       "<Figure size 432x288 with 1 Axes>"
      ]
     },
     "metadata": {
      "needs_background": "light"
     },
     "output_type": "display_data"
    }
   ],
   "source": [
    "x_values = northern_df['Latitude']\n",
    "y_values = northern_df['Humidity']\n",
    "plt.scatter(x_values, y_values)\n",
    "plt.title(\"Northern Hemisphere - Northern Hemisphere - Humidity (%) vs. Latitude Linear Regression\")\n",
    "plt.xlabel('Latitude')\n",
    "plt.ylabel('Humidity')\n",
    "\n",
    "## add a linear regression equation\n",
    "(slope, intercept, rvalue, pvalue, stderr) = linregress(x_values, y_values)\n",
    "\n",
    "## taking the equation from the line above, and calculating the points along the line\n",
    "regress_values = x_values * slope + intercept\n",
    "\n",
    "line_eq = \"y =\" + str(round(slope,2)) + \"x +\" + str(round(intercept,2))\n",
    "plt.scatter(x_values, y_values)\n",
    "plt.plot(x_values, regress_values, \"r-\")\n",
    "plt.annotate(line_eq, (50,20), fontsize = 15, color=\"Blue\")\n",
    "\n",
    "plt.savefig('../output_data/Northern Hemisphere - Humidity (%) vs. Latitude Linear Regression.png')\n",
    "\n",
    "print(f\"The r-squared is: {rvalue}\")\n",
    "plt.show()"
   ]
  },
  {
   "cell_type": "code",
   "execution_count": null,
   "metadata": {},
   "outputs": [],
   "source": [
    "humidity is horrible anywhere and everywhere...there are A Lot of places with A LOT of humidity, but there are very few that are low in humidity "
   ]
  },
  {
   "cell_type": "markdown",
   "metadata": {},
   "source": [
    "####  Southern Hemisphere - Humidity (%) vs. Latitude Linear Regression"
   ]
  },
  {
   "cell_type": "code",
   "execution_count": 43,
   "metadata": {},
   "outputs": [
    {
     "name": "stdout",
     "output_type": "stream",
     "text": [
      "The r-squared is: -0.0017753439377729743\n"
     ]
    },
    {
     "data": {
      "image/png": "[encoded data removed]",
      "text/plain": [
       "<Figure size 432x288 with 1 Axes>"
      ]
     },
     "metadata": {
      "needs_background": "light"
     },
     "output_type": "display_data"
    }
   ],
   "source": [
    "x_values = southern_df['Latitude']\n",
    "y_values = southern_df['Humidity']\n",
    "plt.scatter(x_values, y_values)\n",
    "plt.title(\"Southern Hemisphere - Humidity (%) vs. Latitude Linear Regression\")\n",
    "plt.xlabel('Latitude')\n",
    "plt.ylabel('Humidity')\n",
    "\n",
    "## add a linear regression equation\n",
    "(slope, intercept, rvalue, pvalue, stderr) = linregress(x_values, y_values)\n",
    "\n",
    "## taking the equation from the line above, and calculating the points along the line\n",
    "regress_values = x_values * slope + intercept\n",
    "\n",
    "line_eq = \"y =\" + str(round(slope,2)) + \"x +\" + str(round(intercept,2))\n",
    "plt.scatter(x_values, y_values)\n",
    "plt.plot(x_values, regress_values, \"r-\")\n",
    "plt.annotate(line_eq, (-50,20), fontsize = 15, color=\"Blue\")\n",
    "\n",
    "plt.savefig('../output_data/Southern Hemisphere - Humidity (%) vs. Latitude Linear Regression.png')\n",
    "\n",
    "print(f\"The r-squared is: {rvalue}\")\n",
    "plt.show()"
   ]
  },
  {
   "cell_type": "code",
   "execution_count": null,
   "metadata": {},
   "outputs": [],
   "source": [
    "not as many places with humidity, not matter the latitude. the lower the humidity the further from the equator"
   ]
  },
  {
   "cell_type": "markdown",
   "metadata": {},
   "source": [
    "####  Northern Hemisphere - Cloudiness (%) vs. Latitude Linear Regression"
   ]
  },
  {
   "cell_type": "code",
   "execution_count": 44,
   "metadata": {},
   "outputs": [
    {
     "name": "stdout",
     "output_type": "stream",
     "text": [
      "The r-squared is: -0.041439157211180425\n"
     ]
    },
    {
     "data": {
      "image/png": "[encoded data removed]",
      "text/plain": [
       "<Figure size 432x288 with 1 Axes>"
      ]
     },
     "metadata": {
      "needs_background": "light"
     },
     "output_type": "display_data"
    }
   ],
   "source": [
    "x_values = northern_df['Latitude']\n",
    "y_values = northern_df['Cloud_cover']\n",
    "plt.scatter(x_values, y_values)\n",
    "plt.title(\"Northern Hemisphere - Cloudiness (%) vs. Latitude Linear Regression\")\n",
    "plt.xlabel('Latitude')\n",
    "plt.ylabel('Cloudiness')\n",
    "\n",
    "## add a linear regression equation\n",
    "(slope, intercept, rvalue, pvalue, stderr) = linregress(x_values, y_values)\n",
    "\n",
    "## taking the equation from the line above, and calculating the points along the line\n",
    "regress_values = x_values * slope + intercept\n",
    "\n",
    "line_eq = \"y =\" + str(round(slope,2)) + \"x +\" + str(round(intercept,2))\n",
    "plt.scatter(x_values, y_values)\n",
    "plt.plot(x_values, regress_values, \"r-\")\n",
    "plt.annotate(line_eq, (20,30), fontsize = 15, color=\"Blue\")\n",
    "\n",
    "plt.savefig('../output_data/Northern Hemisphere - Cloudiness (%) vs. Latitude Linear Regression.png')\n",
    "\n",
    "print(f\"The r-squared is: {rvalue}\")\n",
    "plt.show()"
   ]
  },
  {
   "cell_type": "code",
   "execution_count": null,
   "metadata": {},
   "outputs": [],
   "source": [
    "cloud cover is pretty spread out in the northern hemisphere, however between the latitudes of 0-70 seems to have a 100 % cloud cover, ranges 20-65 has no cloud cover, 10-70 have about 70% cloud cover."
   ]
  },
  {
   "cell_type": "markdown",
   "metadata": {},
   "source": [
    "####  Southern Hemisphere - Cloudiness (%) vs. Latitude Linear Regression"
   ]
  },
  {
   "cell_type": "code",
   "execution_count": 45,
   "metadata": {},
   "outputs": [
    {
     "name": "stdout",
     "output_type": "stream",
     "text": [
      "The r-squared is: -0.029103683426781254\n"
     ]
    },
    {
     "data": {
      "image/png": "[encoded data removed]",
      "text/plain": [
       "<Figure size 432x288 with 1 Axes>"
      ]
     },
     "metadata": {
      "needs_background": "light"
     },
     "output_type": "display_data"
    }
   ],
   "source": [
    "x_values = southern_df['Latitude']\n",
    "y_values = southern_df['Cloud_cover']\n",
    "plt.scatter(x_values, y_values)\n",
    "plt.title(\"Southern Hemisphere - Cloudiness (%) vs. Latitude Linear Regression\")\n",
    "plt.xlabel('Latitude')\n",
    "plt.ylabel('Cloudiness')\n",
    "\n",
    "## add a linear regression equation\n",
    "(slope, intercept, rvalue, pvalue, stderr) = linregress(x_values, y_values)\n",
    "\n",
    "## taking the equation from the line above, and calculating the points along the line\n",
    "regress_values = x_values * slope + intercept\n",
    "\n",
    "line_eq = \"y =\" + str(round(slope,2)) + \"x +\" + str(round(intercept,2))\n",
    "plt.scatter(x_values, y_values)\n",
    "plt.plot(x_values, regress_values, \"r-\")\n",
    "plt.annotate(line_eq, (-30,30), fontsize = 15, color=\"Blue\")\n",
    "\n",
    "plt.savefig('../output_data/Southern Hemisphere - Cloudiness (%) vs. Latitude Linear Regression.png')\n",
    "\n",
    "print(f\"The r-squared is: {rvalue}\")\n",
    "plt.show()"
   ]
  },
  {
   "cell_type": "code",
   "execution_count": null,
   "metadata": {},
   "outputs": [],
   "source": [
    "southern hempishere has much less cloud activity"
   ]
  },
  {
   "cell_type": "markdown",
   "metadata": {},
   "source": [
    "####  Northern Hemisphere - Wind Speed (mph) vs. Latitude Linear Regression"
   ]
  },
  {
   "cell_type": "code",
   "execution_count": 46,
   "metadata": {},
   "outputs": [
    {
     "name": "stdout",
     "output_type": "stream",
     "text": [
      "The r-squared is: 0.09908705358861465\n"
     ]
    },
    {
     "data": {
      "image/png": "[encoded data removed]",
      "text/plain": [
       "<Figure size 432x288 with 1 Axes>"
      ]
     },
     "metadata": {
      "needs_background": "light"
     },
     "output_type": "display_data"
    }
   ],
   "source": [
    "x_values = northern_df['Latitude']\n",
    "y_values = northern_df['Wind_Speed']\n",
    "plt.scatter(x_values, y_values)\n",
    "plt.title(\"Northern Hemisphere - Wind Speed (mph) vs. Latitude Linear Regression\")\n",
    "plt.xlabel('Latitude')\n",
    "plt.ylabel('Wind Speed')\n",
    "\n",
    "## add a linear regression equation\n",
    "(slope, intercept, rvalue, pvalue, stderr) = linregress(x_values, y_values)\n",
    "\n",
    "## taking the equation from the line above, and calculating the points along the line\n",
    "regress_values = x_values * slope + intercept\n",
    "\n",
    "line_eq = \"y =\" + str(round(slope,2)) + \"x +\" + str(round(intercept,2))\n",
    "plt.scatter(x_values, y_values)\n",
    "plt.plot(x_values, regress_values, \"r-\")\n",
    "plt.annotate(line_eq, (20,20), fontsize = 15, color=\"Blue\")\n",
    "\n",
    "plt.savefig('../output_data/Northern Hemisphere - Wind Speed (mph) vs. Latitude Linear Regression.png')\n",
    "\n",
    "print(f\"The r-squared is: {rvalue}\")\n",
    "plt.show()"
   ]
  },
  {
   "cell_type": "code",
   "execution_count": null,
   "metadata": {},
   "outputs": [],
   "source": [
    "very few cities with wind above 20 most of the cities are ranged between 0-10 are start becoming more sparingly as the speed gets higher. "
   ]
  },
  {
   "cell_type": "markdown",
   "metadata": {},
   "source": [
    "####  Southern Hemisphere - Wind Speed (mph) vs. Latitude Linear Regression"
   ]
  },
  {
   "cell_type": "code",
   "execution_count": 47,
   "metadata": {},
   "outputs": [
    {
     "name": "stdout",
     "output_type": "stream",
     "text": [
      "The r-squared is: -0.08683355934402076\n"
     ]
    },
    {
     "data": {
      "image/png": "[encoded data removed]",
      "text/plain": [
       "<Figure size 432x288 with 1 Axes>"
      ]
     },
     "metadata": {
      "needs_background": "light"
     },
     "output_type": "display_data"
    }
   ],
   "source": [
    "x_values = southern_df['Latitude']\n",
    "y_values = southern_df['Wind_Speed']\n",
    "plt.scatter(x_values, y_values)\n",
    "plt.title(\"Southern Hemisphere - Wind Speed (mph) vs. Latitude Linear Regression\")\n",
    "plt.xlabel('Latitude')\n",
    "plt.ylabel('Wind Speed')\n",
    "\n",
    "## add a linear regression equation\n",
    "(slope, intercept, rvalue, pvalue, stderr) = linregress(x_values, y_values)\n",
    "\n",
    "## taking the equation from the line above, and calculating the points along the line\n",
    "regress_values = x_values * slope + intercept\n",
    "\n",
    "line_eq = \"y =\" + str(round(slope,2)) + \"x +\" + str(round(intercept,2))\n",
    "plt.scatter(x_values, y_values)\n",
    "plt.plot(x_values, regress_values, \"r-\")\n",
    "plt.annotate(line_eq, (-40,20), fontsize = 15, color=\"Blue\")\n",
    "\n",
    "plt.savefig('../output_data/Southern Hemisphere - Wind Speed (mph) vs. Latitude Linear Regression.png')\n",
    "\n",
    "print(f\"The r-squared is: {rvalue}\")\n",
    "plt.show()"
   ]
  },
  {
   "cell_type": "code",
   "execution_count": null,
   "metadata": {},
   "outputs": [],
   "source": [
    "most of the wind is by the equator as we get further away from the equator the less wind, one 1 country has a wind speed higher then 20"
   ]
  }
 ],
 "metadata": {
  "anaconda-cloud": {},
  "kernel_info": {
   "name": "python3"
  },
  "kernelspec": {
   "display_name": "Python 3",
   "language": "python",
   "name": "python3"
  },
  "language_info": {
   "codemirror_mode": {
    "name": "ipython",
    "version": 3
   },
   "file_extension": ".py",
   "mimetype": "text/x-python",
   "name": "python",
   "nbconvert_exporter": "python",
   "pygments_lexer": "ipython3",
   "version": "3.6.10"
  },
  "latex_envs": {
   "LaTeX_envs_menu_present": true,
   "autoclose": false,
   "autocomplete": true,
   "bibliofile": "biblio.bib",
   "cite_by": "apalike",
   "current_citInitial": 1,
   "eqLabelWithNumbers": true,
   "eqNumInitial": 1,
   "hotkeys": {
    "equation": "Ctrl-E",
    "itemize": "Ctrl-I"
   },
   "labels_anchors": false,
   "latex_user_defs": false,
   "report_style_numbering": false,
   "user_envs_cfg": false
  },
  "nteract": {
   "version": "0.12.3"
  }
 },
 "nbformat": 4,
 "nbformat_minor": 2
}
